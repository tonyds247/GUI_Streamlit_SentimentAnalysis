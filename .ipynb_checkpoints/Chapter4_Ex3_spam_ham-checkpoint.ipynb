{
 "cells": [
  {
   "cell_type": "markdown",
   "metadata": {
    "id": "W0kTmVc5oT6s"
   },
   "source": [
    "# Chapter 4 - Exercise 3: Spam or ham"
   ]
  },
  {
   "cell_type": "markdown",
   "metadata": {
    "id": "JtFaPaCKoT6u"
   },
   "source": [
    "### Cho dữ liệu spam.csv\n",
    "### Yêu cầu: đọc dữ liệu về, chuẩn hóa dữ liệu (nếu cần) và áp dụng thuật toán Naive Bayes để thực hiện việc dự đoán khả năng email là spam hay không dựa trên các thuộc tính v2\n",
    "1. Tạo X_train, X_test, y_train, y_test từ dữ liệu đọc được với tỷ lệ dữ liệu test là 0.2\n",
    "2. Áp dụng thuật toán Naive Bayer => kết quả\n",
    "3. Đánh giá mô hình\n",
    "4. Ghi mô hình\n",
    "5. Đọc mô hình vừa ghi => dự đoán kết quả cho câu 6\n",
    "6. Cho dữ liệu Test: x_new = np.array(['Dear Ms. Phuong. I will come on time.', 'URGENT! We are trying to contact you. Today is the last day of sale. Discount up to 50%']) => sẽ là ham hay spam?"
   ]
  },
  {
   "cell_type": "code",
   "execution_count": 1,
   "metadata": {
    "id": "E8841xOvoT6w"
   },
   "outputs": [],
   "source": [
    "import numpy as np\n",
    "import pandas as pd\n",
    "from sklearn.naive_bayes import MultinomialNB\n",
    "from sklearn.feature_extraction.text import CountVectorizer"
   ]
  },
  {
   "cell_type": "code",
   "execution_count": 2,
   "metadata": {
    "id": "1xy5OwSnoT64",
    "outputId": "5cfc92b8-5eab-4026-9d40-1b1206c5eb3b"
   },
   "outputs": [
    {
     "name": "stdout",
     "output_type": "stream",
     "text": [
      "<class 'pandas.core.frame.DataFrame'>\n",
      "RangeIndex: 5572 entries, 0 to 5571\n",
      "Data columns (total 5 columns):\n",
      " #   Column      Non-Null Count  Dtype \n",
      "---  ------      --------------  ----- \n",
      " 0   v1          5572 non-null   object\n",
      " 1   v2          5572 non-null   object\n",
      " 2   Unnamed: 2  50 non-null     object\n",
      " 3   Unnamed: 3  12 non-null     object\n",
      " 4   Unnamed: 4  6 non-null      object\n",
      "dtypes: object(5)\n",
      "memory usage: 217.8+ KB\n"
     ]
    }
   ],
   "source": [
    "data = pd.read_csv(\"spam.csv\", encoding='latin-1')\n",
    "data.info()"
   ]
  },
  {
   "cell_type": "code",
   "execution_count": 3,
   "metadata": {
    "id": "sz_BduvRoT7A",
    "outputId": "e5cf9c22-809e-4499-9e13-fe5d6eae9dad"
   },
   "outputs": [
    {
     "data": {
      "text/plain": [
       "0     ham\n",
       "1     ham\n",
       "2    spam\n",
       "3     ham\n",
       "4     ham\n",
       "Name: v1, dtype: object"
      ]
     },
     "execution_count": 3,
     "metadata": {},
     "output_type": "execute_result"
    }
   ],
   "source": [
    "data['v1'].head()"
   ]
  },
  {
   "cell_type": "code",
   "execution_count": 4,
   "metadata": {
    "id": "eas9PbSpoT7G",
    "outputId": "81a87d52-621e-4ee1-af98-9cf535141416"
   },
   "outputs": [
    {
     "data": {
      "text/plain": [
       "pandas.core.series.Series"
      ]
     },
     "execution_count": 4,
     "metadata": {},
     "output_type": "execute_result"
    }
   ],
   "source": [
    "source = data['v2']\n",
    "type(source)"
   ]
  },
  {
   "cell_type": "code",
   "execution_count": 5,
   "metadata": {
    "id": "hEKOfq2boT7L",
    "outputId": "6e5109ad-909f-4905-9eb7-1ed02bc0e4ba"
   },
   "outputs": [
    {
     "data": {
      "text/plain": [
       "0    Go until jurong point, crazy.. Available only ...\n",
       "1                        Ok lar... Joking wif u oni...\n",
       "2    Free entry in 2 a wkly comp to win FA Cup fina...\n",
       "3    U dun say so early hor... U c already then say...\n",
       "4    Nah I don't think he goes to usf, he lives aro...\n",
       "Name: v2, dtype: object"
      ]
     },
     "execution_count": 5,
     "metadata": {},
     "output_type": "execute_result"
    }
   ],
   "source": [
    "source[:5]"
   ]
  },
  {
   "cell_type": "code",
   "execution_count": 6,
   "metadata": {
    "id": "RQ5ThivboT7Q",
    "outputId": "56c02af0-6efe-4ae1-f99c-2cca50273753"
   },
   "outputs": [
    {
     "data": {
      "text/plain": [
       "v1\n",
       "ham     4825\n",
       "spam     747\n",
       "Name: v2, dtype: int64"
      ]
     },
     "execution_count": 6,
     "metadata": {},
     "output_type": "execute_result"
    }
   ],
   "source": [
    "data.groupby('v1').v2.count()"
   ]
  },
  {
   "cell_type": "code",
   "execution_count": 7,
   "metadata": {
    "id": "N8FOk5aaoT7W",
    "outputId": "3d3cb127-5e7a-4dbe-f1df-661fcce7d433"
   },
   "outputs": [
    {
     "data": {
      "text/plain": [
       "pandas.core.series.Series"
      ]
     },
     "execution_count": 7,
     "metadata": {},
     "output_type": "execute_result"
    }
   ],
   "source": [
    "target = data['v1']\n",
    "type(target)"
   ]
  },
  {
   "cell_type": "code",
   "execution_count": 8,
   "metadata": {
    "id": "lFMutNVKoT7d"
   },
   "outputs": [],
   "source": [
    "# ham = 0, spam = 1"
   ]
  },
  {
   "cell_type": "code",
   "execution_count": 9,
   "metadata": {
    "id": "57UFVIMjoT7f"
   },
   "outputs": [],
   "source": [
    "target = target.replace(\"ham\", 0)"
   ]
  },
  {
   "cell_type": "code",
   "execution_count": 10,
   "metadata": {
    "id": "rySEX3dnoT7i"
   },
   "outputs": [],
   "source": [
    "target = target.replace(\"spam\", 1)"
   ]
  },
  {
   "cell_type": "code",
   "execution_count": 11,
   "metadata": {
    "id": "YcA0jbQ3oT7l",
    "outputId": "ebf08553-bf32-44af-d986-5ff3c0d962a3"
   },
   "outputs": [
    {
     "data": {
      "text/plain": [
       "0    0\n",
       "1    0\n",
       "2    1\n",
       "3    0\n",
       "4    0\n",
       "Name: v1, dtype: int64"
      ]
     },
     "execution_count": 11,
     "metadata": {},
     "output_type": "execute_result"
    }
   ],
   "source": [
    "target[:5]"
   ]
  },
  {
   "cell_type": "code",
   "execution_count": 12,
   "metadata": {
    "id": "NZBEfoWeoT7u",
    "outputId": "54128370-3110-45d6-9ac8-ed6bd53ed8f4"
   },
   "outputs": [
    {
     "data": {
      "text/plain": [
       "array(['Go until jurong point, crazy.. Available only in bugis n great world la e buffet... Cine there got amore wat...',\n",
       "       'Ok lar... Joking wif u oni...',\n",
       "       \"Free entry in 2 a wkly comp to win FA Cup final tkts 21st May 2005. Text FA to 87121 to receive entry question(std txt rate)T&C's apply 08452810075over18's\",\n",
       "       ..., 'Pity, * was in mood for that. So...any other suggestions?',\n",
       "       \"The guy did some bitching but I acted like i'd be interested in buying something else next week and he gave it to us for free\",\n",
       "       'Rofl. Its true to its name'], dtype=object)"
      ]
     },
     "execution_count": 12,
     "metadata": {},
     "output_type": "execute_result"
    }
   ],
   "source": [
    "text_data = np.array(source)\n",
    "text_data"
   ]
  },
  {
   "cell_type": "code",
   "execution_count": 67,
   "metadata": {
    "id": "_quR3GrGoT7z",
    "outputId": "ad05c5b7-f752-49c0-b111-099ecbdf5c44"
   },
   "outputs": [
    {
     "data": {
      "text/plain": [
       "<5572x4000 sparse matrix of type '<class 'numpy.int64'>'\n",
       "\twith 68963 stored elements in Compressed Sparse Row format>"
      ]
     },
     "execution_count": 67,
     "metadata": {},
     "output_type": "execute_result"
    }
   ],
   "source": [
    "count = CountVectorizer(max_features=4000)\n",
    "count.fit(text_data)\n",
    "bag_of_words = count.transform(text_data)\n",
    "bag_of_words"
   ]
  },
  {
   "cell_type": "code",
   "execution_count": 68,
   "metadata": {
    "id": "MYiSUMDIoT72",
    "outputId": "19d32193-a0da-4fe8-96d1-1460d9961c09"
   },
   "outputs": [
    {
     "data": {
      "text/plain": [
       "array([[0, 0, 0, ..., 0, 0, 0],\n",
       "       [0, 0, 0, ..., 0, 0, 0],\n",
       "       [0, 0, 0, ..., 0, 0, 0],\n",
       "       ...,\n",
       "       [0, 0, 0, ..., 0, 0, 0],\n",
       "       [0, 0, 0, ..., 0, 0, 0],\n",
       "       [0, 0, 0, ..., 0, 0, 0]], dtype=int64)"
      ]
     },
     "execution_count": 68,
     "metadata": {},
     "output_type": "execute_result"
    }
   ],
   "source": [
    "X = bag_of_words.toarray()\n",
    "X"
   ]
  },
  {
   "cell_type": "code",
   "execution_count": 69,
   "metadata": {
    "id": "q5eEOtsHoT76",
    "outputId": "41f83b9e-ce6f-4c49-94a0-5b424c6316c8"
   },
   "outputs": [
    {
     "data": {
      "text/plain": [
       "(5572, 4000)"
      ]
     },
     "execution_count": 69,
     "metadata": {},
     "output_type": "execute_result"
    }
   ],
   "source": [
    "X.shape"
   ]
  },
  {
   "cell_type": "code",
   "execution_count": 70,
   "metadata": {
    "id": "wi15qexeoT8A"
   },
   "outputs": [],
   "source": [
    "y = np.array(target)"
   ]
  },
  {
   "cell_type": "code",
   "execution_count": 71,
   "metadata": {
    "id": "AZ3HNziNoT8B",
    "outputId": "a2d1efc9-fb97-469f-ea9f-0afab4fd2816"
   },
   "outputs": [
    {
     "data": {
      "text/plain": [
       "(5572,)"
      ]
     },
     "execution_count": 71,
     "metadata": {},
     "output_type": "execute_result"
    }
   ],
   "source": [
    "y.shape"
   ]
  },
  {
   "cell_type": "code",
   "execution_count": 72,
   "metadata": {
    "id": "cSh4U90ooT8E"
   },
   "outputs": [],
   "source": [
    "from sklearn.model_selection import train_test_split  \n",
    "X_train, X_test, y_train, y_test = train_test_split(X, y, \n",
    "                                                    test_size=0.20) "
   ]
  },
  {
   "cell_type": "code",
   "execution_count": 73,
   "metadata": {
    "id": "bn-SjdCloT8G"
   },
   "outputs": [],
   "source": [
    "clf = MultinomialNB()\n",
    "model = clf.fit(X_train, y_train)"
   ]
  },
  {
   "cell_type": "code",
   "execution_count": 74,
   "metadata": {
    "id": "DCzzPYwooT8I"
   },
   "outputs": [],
   "source": [
    "y_pred = clf.predict(X_test)"
   ]
  },
  {
   "cell_type": "code",
   "execution_count": 75,
   "metadata": {
    "id": "t4qq9CT6oT8K",
    "outputId": "c9fe86a1-9588-4319-9aad-b2b470b1632c"
   },
   "outputs": [
    {
     "name": "stdout",
     "output_type": "stream",
     "text": [
      "score Scikit learn - train:  0.9916984518734575\n"
     ]
    }
   ],
   "source": [
    "print('score Scikit learn - train: ', model.score(X_train,y_train))"
   ]
  },
  {
   "cell_type": "code",
   "execution_count": 76,
   "metadata": {
    "id": "GQPVwopwoT8M",
    "outputId": "15a1105e-2e0a-448b-ab38-f932a661d32e"
   },
   "outputs": [
    {
     "name": "stdout",
     "output_type": "stream",
     "text": [
      "score Scikit learn:  0.9865470852017937\n"
     ]
    }
   ],
   "source": [
    "print('score Scikit learn: ', model.score(X_test,y_test))"
   ]
  },
  {
   "cell_type": "code",
   "execution_count": 77,
   "metadata": {
    "id": "JYt1kw4joT8P",
    "outputId": "dde3cfb0-9bf5-4728-83ed-bc4e87fd5760"
   },
   "outputs": [
    {
     "name": "stdout",
     "output_type": "stream",
     "text": [
      "Accuracy is  98.65470852017937 %\n"
     ]
    }
   ],
   "source": [
    "from sklearn.metrics import accuracy_score \n",
    "print(\"Accuracy is \", accuracy_score(y_test,y_pred)*100,\"%\") "
   ]
  },
  {
   "cell_type": "code",
   "execution_count": 78,
   "metadata": {
    "id": "86Q32Ty1oT8R"
   },
   "outputs": [],
   "source": [
    "# Nhận xét: Cả training và testing đều có Score cao"
   ]
  },
  {
   "cell_type": "code",
   "execution_count": 79,
   "metadata": {
    "id": "1NOxkOtgoT8T"
   },
   "outputs": [],
   "source": [
    "from sklearn.metrics import confusion_matrix"
   ]
  },
  {
   "cell_type": "code",
   "execution_count": 80,
   "metadata": {
    "id": "Ycn7RC4foT8V",
    "outputId": "d61d3ed2-d71b-4a2b-b18a-2ef6b6f1ea2d"
   },
   "outputs": [
    {
     "data": {
      "text/plain": [
       "array([[930,   4],\n",
       "       [ 11, 170]], dtype=int64)"
      ]
     },
     "execution_count": 80,
     "metadata": {},
     "output_type": "execute_result"
    }
   ],
   "source": [
    "confusion_matrix(y_test, y_pred, labels=[0, 1])"
   ]
  },
  {
   "cell_type": "code",
   "execution_count": 81,
   "metadata": {
    "id": "1lyRsz-PoT8Y"
   },
   "outputs": [],
   "source": [
    "# Đánh giá model\n",
    "from sklearn. metrics import classification_report, roc_auc_score, roc_curve"
   ]
  },
  {
   "cell_type": "code",
   "execution_count": 82,
   "metadata": {
    "id": "zZMs1knmoT8Z",
    "outputId": "803bfad6-5387-4da2-f786-5feadd93cfbd"
   },
   "outputs": [
    {
     "name": "stdout",
     "output_type": "stream",
     "text": [
      "              precision    recall  f1-score   support\n",
      "\n",
      "           0       0.99      1.00      0.99       934\n",
      "           1       0.98      0.94      0.96       181\n",
      "\n",
      "    accuracy                           0.99      1115\n",
      "   macro avg       0.98      0.97      0.97      1115\n",
      "weighted avg       0.99      0.99      0.99      1115\n",
      "\n"
     ]
    }
   ],
   "source": [
    "print(classification_report(y_test, y_pred))"
   ]
  },
  {
   "cell_type": "code",
   "execution_count": 83,
   "metadata": {
    "id": "cxuiImZvoT8b"
   },
   "outputs": [],
   "source": [
    "# Nhận xét: Có precision cao, recall cao"
   ]
  },
  {
   "cell_type": "code",
   "execution_count": 84,
   "metadata": {
    "id": "LkV0tyQ2oT8d",
    "outputId": "aead7e3a-2105-4ff2-a609-1afe19b4ff22"
   },
   "outputs": [
    {
     "data": {
      "text/plain": [
       "array([[9.99544191e-01, 4.55809249e-04],\n",
       "       [5.90189084e-04, 9.99409811e-01],\n",
       "       [1.00000000e+00, 1.61888849e-25],\n",
       "       ...,\n",
       "       [9.99999462e-01, 5.38405673e-07],\n",
       "       [9.95518943e-01, 4.48105656e-03],\n",
       "       [9.89303397e-01, 1.06966034e-02]])"
      ]
     },
     "execution_count": 84,
     "metadata": {},
     "output_type": "execute_result"
    }
   ],
   "source": [
    "y_prob = model.predict_proba(X_test)\n",
    "y_prob"
   ]
  },
  {
   "cell_type": "code",
   "execution_count": 85,
   "metadata": {
    "id": "33fddvvkoT8f",
    "outputId": "f2a718bd-97ca-4512-eca7-41bc15122e70"
   },
   "outputs": [
    {
     "data": {
      "text/plain": [
       "0.9847297313284512"
      ]
     },
     "execution_count": 85,
     "metadata": {},
     "output_type": "execute_result"
    }
   ],
   "source": [
    "roc_auc_score(y_test, y_prob[:, 1])"
   ]
  },
  {
   "cell_type": "code",
   "execution_count": 86,
   "metadata": {
    "id": "1OWUy56ToT8h"
   },
   "outputs": [],
   "source": [
    "import matplotlib.pyplot as plt"
   ]
  },
  {
   "cell_type": "code",
   "execution_count": 87,
   "metadata": {
    "id": "xB0vYgFroT8j",
    "outputId": "faa9775e-f648-44fd-90be-84ff671d0a5e"
   },
   "outputs": [
    {
     "data": {
      "image/png": "[encoded data removed]",
      "text/plain": [
       "<Figure size 432x288 with 1 Axes>"
      ]
     },
     "metadata": {
      "needs_background": "light"
     },
     "output_type": "display_data"
    }
   ],
   "source": [
    "# calculate roc curve\n",
    "fpr, tpr, thresholds = roc_curve(y_test, y_prob[:, 1])\n",
    "# plot no skill\n",
    "plt.plot([0, 1], [0, 1], linestyle='--')\n",
    "plt.plot(fpr, tpr, marker='.')\n",
    "plt.show()"
   ]
  },
  {
   "cell_type": "code",
   "execution_count": 88,
   "metadata": {
    "id": "xOj4qonloT8m"
   },
   "outputs": [],
   "source": [
    "# ROC cao\n",
    "# Dựa trên tất cả các đánh giá => Model phù hợp"
   ]
  },
  {
   "cell_type": "code",
   "execution_count": 89,
   "metadata": {
    "id": "OcfrKdgXoT8o"
   },
   "outputs": [],
   "source": [
    "# Ghi model"
   ]
  },
  {
   "cell_type": "code",
   "execution_count": 90,
   "metadata": {
    "id": "Lb2MKC8KoT8p"
   },
   "outputs": [],
   "source": [
    "import pickle\n",
    "pkl_filename = \"ham_spam_model.pkl\"  \n",
    "with open(pkl_filename, 'wb') as file:  \n",
    "    pickle.dump(model, file)\n",
    "    \n",
    "# luu model CountVectorizer (count) theo cach tren\n",
    "pkl_count = \"count_model.pkl\"  \n",
    "with open(pkl_count, 'wb') as file:  \n",
    "    pickle.dump(count, file)"
   ]
  },
  {
   "cell_type": "code",
   "execution_count": 91,
   "metadata": {
    "id": "_v9rPftcoT8t"
   },
   "outputs": [],
   "source": [
    "# Đọc model\n",
    "# import pickle\n",
    "with open(pkl_filename, 'rb') as file:  \n",
    "    ham_spam_model = pickle.load(file)\n",
    "# doc model count len\n",
    "with open(pkl_count, 'rb') as file:  \n",
    "    count_model = pickle.load(file)"
   ]
  },
  {
   "cell_type": "code",
   "execution_count": 92,
   "metadata": {
    "id": "INVOVid1oT8v"
   },
   "outputs": [],
   "source": [
    "x_new = np.array(['Dear Ms. Phuong. I will come on time.',                 \n",
    "                  'URGENT! We are trying to contact you. Today is the last day of sale. Discount up to 50%'])\n",
    "x_new = count_model.transform(x_new)"
   ]
  },
  {
   "cell_type": "code",
   "execution_count": 93,
   "metadata": {
    "id": "MMRYIFUtoT8x",
    "outputId": "3a2eaa46-f598-45b0-a2b9-e5b5f4065ada"
   },
   "outputs": [
    {
     "data": {
      "text/plain": [
       "array([0, 1], dtype=int64)"
      ]
     },
     "execution_count": 93,
     "metadata": {},
     "output_type": "execute_result"
    }
   ],
   "source": [
    "y_pred_new = ham_spam_model.predict(x_new)\n",
    "y_pred_new"
   ]
  }
 ],
 "metadata": {
  "colab": {
   "collapsed_sections": [],
   "name": "Chapter4_Ex3_spam_ham.ipynb",
   "provenance": []
  },
  "kernelspec": {
   "display_name": "Python 3",
   "language": "python",
   "name": "python3"
  },
  "language_info": {
   "codemirror_mode": {
    "name": "ipython",
    "version": 3
   },
   "file_extension": ".py",
   "mimetype": "text/x-python",
   "name": "python",
   "nbconvert_exporter": "python",
   "pygments_lexer": "ipython3",
   "version": "3.6.8"
  }
 },
 "nbformat": 4,
 "nbformat_minor": 1
}
